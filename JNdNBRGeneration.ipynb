{
 "cells": [
  {
   "cell_type": "code",
   "execution_count": 1,
   "id": "9cdb18ac",
   "metadata": {},
   "outputs": [],
   "source": [
    "# Import Packages\n",
    "import numpy as np\n",
    "from tqdm.notebook import tqdm\n",
    "import ee"
   ]
  },
  {
   "cell_type": "code",
   "execution_count": null,
   "id": "873a467c",
   "metadata": {},
   "outputs": [],
   "source": [
    "# Authenticate & Initialize Google Earth Engine Account\n",
    "ee.Authenticate()\n",
    "ee.Initialize()"
   ]
  },
  {
   "cell_type": "code",
   "execution_count": 15,
   "id": "629b2950",
   "metadata": {},
   "outputs": [],
   "source": [
    "# Import geemap Package\n",
    "import geemap"
   ]
  },
  {
   "cell_type": "code",
   "execution_count": 16,
   "id": "9124744d",
   "metadata": {},
   "outputs": [
    {
     "data": {
      "application/vnd.jupyter.widget-view+json": {
       "model_id": "d7d54737af924f488fa83fa8a10e744f",
       "version_major": 2,
       "version_minor": 0
      },
      "text/plain": [
       "HBox(children=(VBox(), VBox()))"
      ]
     },
     "metadata": {},
     "output_type": "display_data"
    }
   ],
   "source": [
    "geemap.ee_search()"
   ]
  },
  {
   "cell_type": "code",
   "execution_count": 24,
   "id": "4a68b854",
   "metadata": {},
   "outputs": [],
   "source": [
    "# GEEFile(EPSG4326) file in GEE user's assets\n",
    "fe = ee.FeatureCollection('users/sm0162/GEEFileEPSG4326')"
   ]
  },
  {
   "cell_type": "code",
   "execution_count": 25,
   "id": "f0ee4172",
   "metadata": {},
   "outputs": [],
   "source": [
    "# Landsat 7 & 8 Atmospherically Corrected Surface Reflectance Data Image Collections\n",
    "L7 = ee.ImageCollection('LANDSAT/LE07/C02/T1_L2');\n",
    "L8 = ee.ImageCollection('LANDSAT/LC08/C02/T1_L2');"
   ]
  },
  {
   "cell_type": "code",
   "execution_count": 26,
   "id": "e65be4b0",
   "metadata": {},
   "outputs": [],
   "source": [
    "#Landsat Masking Function\n",
    "def mask_landsat(image):\n",
    "  date = ee.Number.parse(ee.Date(image.get('system:time_start')).format('yyyyMMdd'));\n",
    "  mask = image.select('QA_PIXEL').bitwiseAnd(ee.Number(2).pow(3).int()).eq(0).And(image.select('QA_PIXEL').bitwiseAnd(ee.Number(2).pow(4).int()).eq(0));\n",
    "  satellite = ee.String(image.get('SPACECRAFT_ID'));\n",
    "  image = ee.Image(ee.Algorithms.If(\n",
    "    satellite.compareTo('LANDSAT_7').eq(0),\n",
    "    image.select(['SR_B4', 'SR_B7'])\n",
    "      .multiply(0.0000275).add(-0.2).multiply(10000)\n",
    "      .rename(['NIR', 'SWIR2']),\n",
    "    image.select(['SR_B5', 'SR_B7'])\n",
    "      .multiply(0.0000275).add(-0.2).multiply(10000)\n",
    "      .rename(['NIR', 'SWIR2'])\n",
    "    ));\n",
    "  return image.updateMask(mask.eq(0)).set('date', date);"
   ]
  },
  {
   "cell_type": "code",
   "execution_count": 27,
   "id": "e093df7c",
   "metadata": {},
   "outputs": [],
   "source": [
    "# Function to generate dNBR\n",
    "def generateNBR (image):\n",
    "  return image.normalizedDifference(['SWIR2', 'NIR']).rename('NBR');"
   ]
  },
  {
   "cell_type": "code",
   "execution_count": 28,
   "id": "0e4e0e31",
   "metadata": {},
   "outputs": [],
   "source": [
    "# Assign layer name property\n",
    "LN = 'FireEvents'\n",
    "fe = fe.map(lambda x: x.set('layerName', LN))"
   ]
  },
  {
   "cell_type": "code",
   "execution_count": 29,
   "id": "352c73ad",
   "metadata": {},
   "outputs": [],
   "source": [
    "# Main Function\n",
    "def prepareDNBRGeneration(envelope):\n",
    "  envelope = ee.Feature(envelope);\n",
    "  # Which layer?\n",
    "  layerName = envelope.get('layerName');\n",
    "  # Get Unique Feature ID\n",
    "  featID = ee.Number(envelope.get('CLUSTER_ID')).format()\n",
    "  # return layerName\n",
    "    \n",
    "  ###  PRE-FIRE START & END DATE DEFINITION ###\n",
    "  # If input file is generated through QGIS: Use 'Date'\n",
    "  # If input file is generated through ArcGISPro: Use 'START_TIME'\n",
    "\n",
    "  cluster_start_date = ee.Date(envelope.get('START_TIME'));\n",
    "  pre_fire_start_date = (cluster_start_date.advance(-120, 'day'));\n",
    "  pre_fire_end_date = (cluster_start_date.advance(-1, 'day'));\n",
    "  \n",
    "  ###  POST-FIRE START & END DATE DEFINITION ###\n",
    "  # If input file is generated through QGIS: Use 'Date'\n",
    "  # If input file is generated through ArcGISPro: Use 'END_TIME'\n",
    "    \n",
    "  cluster_end_date = ee.Date(envelope.get('END_TIME'));\n",
    "  post_fire_start_date = (cluster_end_date.advance(1, 'day'));\n",
    "  post_fire_end_date = (cluster_end_date.advance(120, 'day'));\n",
    "\n",
    "  preImageL7 = L7.filterBounds(envelope.geometry()).filterDate(pre_fire_start_date, pre_fire_end_date);\n",
    "  preImageL8 = L8.filterBounds(envelope.geometry()).filterDate(pre_fire_start_date, pre_fire_end_date);\n",
    "  \n",
    "  preImage = ee.Algorithms.If(preImageL8.size().eq(0), preImageL7, preImageL7.merge(preImageL8));\n",
    "  preImage = ee.ImageCollection(preImage).map(mask_landsat);\n",
    "\n",
    "  postImageL7 = L7.filterBounds(envelope.geometry()).filterDate(post_fire_start_date, post_fire_end_date);\n",
    "\n",
    "  postImageL8 = L8.filterBounds(envelope.geometry()).filterDate(post_fire_start_date, post_fire_end_date);\n",
    "  \n",
    "  postImage = ee.Algorithms.If(postImageL8.size().eq(0), postImageL7, postImageL7.merge(postImageL8));\n",
    "  postImage = ee.ImageCollection(postImage).map(mask_landsat);\n",
    "  preImage = preImage.map(generateNBR);\n",
    "  preImage = preImage.median().multiply(1000).rename([ee.String('preImage_').cat(layerName).cat('_').cat(featID)]);\n",
    "\n",
    "  postImage = postImage.map(generateNBR);\n",
    "  postImage = postImage.median().multiply(1000).rename([ee.String('postImage_').cat(layerName).cat('_').cat(featID)]);\n",
    "  imageName = ee.String(\"dNBR_\").cat(layerName).cat('_').cat(featID)\n",
    "  dNBR = preImage.subtract(postImage).rename([imageName])\n",
    "  image = dNBR\n",
    "  return image.clip(envelope.geometry())"
   ]
  },
  {
   "cell_type": "code",
   "execution_count": 30,
   "id": "4cbbf305",
   "metadata": {},
   "outputs": [
    {
     "data": {
      "text/plain": [
       "'dNBR_FireEvents_75'"
      ]
     },
     "execution_count": 30,
     "metadata": {},
     "output_type": "execute_result"
    }
   ],
   "source": [
    "# Run dNBR Generation Function\n",
    "image = prepareDNBRGeneration(fe.first())\n",
    "image.bandNames().get(0).getInfo()"
   ]
  },
  {
   "cell_type": "code",
   "execution_count": 31,
   "id": "3810b2d2",
   "metadata": {},
   "outputs": [],
   "source": [
    "# Create list of dNBR events\n",
    "listfe = fe.toList(fe.size());\n",
    "listfeNBR = listfe.map(prepareDNBRGeneration)\n",
    "size = fe.size().getInfo()"
   ]
  },
  {
   "cell_type": "code",
   "execution_count": 32,
   "id": "56971c0f",
   "metadata": {},
   "outputs": [
    {
     "data": {
      "application/vnd.jupyter.widget-view+json": {
       "model_id": "83ea8ed4f2594aff99f171f8e236942a",
       "version_major": 2,
       "version_minor": 0
      },
      "text/plain": [
       "  0%|          | 0/388 [00:00<?, ?it/s]"
      ]
     },
     "metadata": {},
     "output_type": "display_data"
    }
   ],
   "source": [
    "# Google Drive Export Function\n",
    "# Creates folder \"dNBR_Output\" in user's Google Drive\n",
    "\n",
    "for i in tqdm(range(size)):\n",
    "  i = int(i)\n",
    "  image = ee.Image(listfeNBR.get(i))\n",
    "  task_config = {\n",
    "        'image': image,\n",
    "        'fileNamePrefix': 'dNBR'+str(image.bandNames().get(0).getInfo().split('_')[-1]),\n",
    "        'crs': 'EPSG:4326',\n",
    "        'scale': 30,\n",
    "        'fileFormat': 'GeoTIFF',\n",
    "        'skipEmptyTiles': True,\n",
    "        'folder': 'dNBR_Output'\n",
    "    }\n",
    "  task = ee.batch.Export.image.toDrive(**task_config)\n",
    "  task.start()"
   ]
  }
 ],
 "metadata": {
  "kernelspec": {
   "display_name": "Python 3 (ipykernel)",
   "language": "python",
   "name": "python3"
  },
  "language_info": {
   "codemirror_mode": {
    "name": "ipython",
    "version": 3
   },
   "file_extension": ".py",
   "mimetype": "text/x-python",
   "name": "python",
   "nbconvert_exporter": "python",
   "pygments_lexer": "ipython3",
   "version": "3.9.16"
  }
 },
 "nbformat": 4,
 "nbformat_minor": 5
}
